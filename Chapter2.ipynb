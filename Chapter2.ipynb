{
 "cells": [
  {
   "cell_type": "code",
   "execution_count": 1,
   "id": "667952d8-235c-4133-991d-7b6c82ea1441",
   "metadata": {},
   "outputs": [],
   "source": [
    "import pymc3 as pm\n",
    "import matplotlib"
   ]
  },
  {
   "cell_type": "markdown",
   "id": "95279558-2cb6-48f7-a4ab-3c22892a0809",
   "metadata": {},
   "source": [
    "`with`문을 통해서 `model` 내 변수 선언이 편해짐.\n",
    "- 여기 안에서 (context라고 표현함) 선언된 변수는 `model`에 대한 속성으로 assign됨\n",
    "- 밖에서 선언하면 error가 발생함"
   ]
  },
  {
   "cell_type": "code",
   "execution_count": 2,
   "id": "6ea96418-6e31-4229-80ee-6956944d3889",
   "metadata": {},
   "outputs": [],
   "source": [
    "with pm.Model() as model:\n",
    "    parameter = pm.Exponential(\"poisson_param\", 1.0)\n",
    "    data_generator = pm.Poisson(\"data_generator\", parameter)"
   ]
  },
  {
   "cell_type": "code",
   "execution_count": 3,
   "id": "29d7bc4d-9012-48fc-80b8-491ee5da4354",
   "metadata": {},
   "outputs": [
    {
     "data": {
      "text/plain": [
       "{'_parent': None,\n",
       " '_theano_config': {'compute_test_value': 'raise'},\n",
       " '_config_context': <theano.configparser._ChangeFlagsDecorator at 0x7f7b8302d3a0>,\n",
       " 'name': '',\n",
       " 'coords': {},\n",
       " 'RV_dims': {},\n",
       " 'check_bounds': True,\n",
       " 'named_vars': {'poisson_param_log__': poisson_param_log__ ~ TransformedDistribution,\n",
       "  'poisson_param': poisson_param ~ Exponential,\n",
       "  'data_generator': data_generator ~ Poisson},\n",
       " 'free_RVs': [poisson_param_log__ ~ TransformedDistribution,\n",
       "  data_generator ~ Poisson],\n",
       " 'observed_RVs': [],\n",
       " 'deterministics': [poisson_param ~ Exponential],\n",
       " 'potentials': [],\n",
       " 'missing_values': [],\n",
       " 'poisson_param_log__': poisson_param_log__ ~ TransformedDistribution,\n",
       " 'poisson_param': poisson_param ~ Exponential,\n",
       " 'data_generator': data_generator ~ Poisson}"
      ]
     },
     "execution_count": 3,
     "metadata": {},
     "output_type": "execute_result"
    }
   ],
   "source": [
    "model.__dict__"
   ]
  },
  {
   "cell_type": "code",
   "execution_count": 4,
   "id": "e22645bc-fe59-4bb2-a4c6-17a953efabd2",
   "metadata": {},
   "outputs": [
    {
     "data": {
      "text/plain": [
       "array(0.69314718)"
      ]
     },
     "execution_count": 4,
     "metadata": {},
     "output_type": "execute_result"
    }
   ],
   "source": [
    "parameter.tag.test_value"
   ]
  },
  {
   "cell_type": "markdown",
   "id": "1b100dd6-595f-4ff9-8a32-d46dc11802cf",
   "metadata": {},
   "source": [
    "다시 `with model`로 부를 수 있음"
   ]
  },
  {
   "cell_type": "code",
   "execution_count": 6,
   "id": "9f151728-c331-40c3-878d-b4616534b9af",
   "metadata": {},
   "outputs": [],
   "source": [
    "with model:\n",
    "    data_plus_one = data_generator + 1"
   ]
  },
  {
   "cell_type": "code",
   "execution_count": 7,
   "id": "2af29925-8a98-4232-a569-8be49e57a854",
   "metadata": {},
   "outputs": [],
   "source": [
    "with pm.Model() as model:\n",
    "    theta = pm.Exponential(\"theta\", 2.0)\n",
    "    data_generator = pm.Poisson(\"data_generator\", theta)"
   ]
  },
  {
   "cell_type": "code",
   "execution_count": 8,
   "id": "eeba8f99-1cb8-42bc-af4f-700bf915e426",
   "metadata": {},
   "outputs": [
    {
     "data": {
      "text/plain": [
       "array(0.34657359)"
      ]
     },
     "execution_count": 8,
     "metadata": {},
     "output_type": "execute_result"
    }
   ],
   "source": [
    "theta.tag.test_value"
   ]
  },
  {
   "cell_type": "code",
   "execution_count": 9,
   "id": "2aec3bbe-4680-438f-90bb-eb204a8a859e",
   "metadata": {},
   "outputs": [
    {
     "data": {
      "text/plain": [
       "array(0)"
      ]
     },
     "execution_count": 9,
     "metadata": {},
     "output_type": "execute_result"
    }
   ],
   "source": [
    "data_generator.tag.test_value"
   ]
  },
  {
   "cell_type": "code",
   "execution_count": 10,
   "id": "224f81b6-230d-46da-90ec-2b0f746ca679",
   "metadata": {},
   "outputs": [
    {
     "data": {
      "text/plain": [
       "<_thread._local at 0x7f7b8302e220>"
      ]
     },
     "execution_count": 10,
     "metadata": {},
     "output_type": "execute_result"
    }
   ],
   "source": [
    "model.contexts"
   ]
  },
  {
   "cell_type": "code",
   "execution_count": 11,
   "id": "c0bcc581-6b05-4370-94e1-53a045972012",
   "metadata": {},
   "outputs": [
    {
     "data": {
      "text/plain": [
       "{'_parent': None,\n",
       " '_theano_config': {'compute_test_value': 'raise'},\n",
       " '_config_context': <theano.configparser._ChangeFlagsDecorator at 0x7f7b704417c0>,\n",
       " 'name': '',\n",
       " 'coords': {},\n",
       " 'RV_dims': {},\n",
       " 'check_bounds': True,\n",
       " 'named_vars': {'theta_log__': theta_log__ ~ TransformedDistribution,\n",
       "  'theta': theta ~ Exponential,\n",
       "  'data_generator': data_generator ~ Poisson},\n",
       " 'free_RVs': [theta_log__ ~ TransformedDistribution, data_generator ~ Poisson],\n",
       " 'observed_RVs': [],\n",
       " 'deterministics': [theta ~ Exponential],\n",
       " 'potentials': [],\n",
       " 'missing_values': [],\n",
       " 'theta_log__': theta_log__ ~ TransformedDistribution,\n",
       " 'theta': theta ~ Exponential,\n",
       " 'data_generator': data_generator ~ Poisson}"
      ]
     },
     "execution_count": 11,
     "metadata": {},
     "output_type": "execute_result"
    }
   ],
   "source": [
    "model.__dict__"
   ]
  },
  {
   "cell_type": "code",
   "execution_count": 12,
   "id": "5d40ee32-adce-45c5-b27c-24a4b3868acd",
   "metadata": {},
   "outputs": [],
   "source": [
    "with pm.Model() as ab_testing:\n",
    "    p_A = pm.Uniform(\"P(A)\", 0, 1)\n",
    "    p_B = pm.Uniform(\"P(B)\", 0, 1)"
   ]
  },
  {
   "cell_type": "markdown",
   "id": "748b53c9-2739-4a18-a1ce-3a791b8ddb75",
   "metadata": {},
   "source": [
    "## PyMC3 variables"
   ]
  },
  {
   "cell_type": "markdown",
   "id": "db010fcd-77fe-432a-815e-ea9202946cab",
   "metadata": {},
   "source": [
    "`test_value`는 model에만 쓰이며, sampling의 스타트 포인트이다."
   ]
  },
  {
   "cell_type": "code",
   "execution_count": 13,
   "id": "94e9d358-32d6-488f-9611-2a46465465fc",
   "metadata": {},
   "outputs": [
    {
     "name": "stdout",
     "output_type": "stream",
     "text": [
      "0.6931471824645996\n",
      "0\n",
      "1\n"
     ]
    }
   ],
   "source": [
    "# test values (=initial values)\n",
    "print(parameter.tag.test_value)\n",
    "print(data_generator.tag.test_value)\n",
    "print(data_plus_one.tag.test_value)"
   ]
  },
  {
   "cell_type": "code",
   "execution_count": 14,
   "id": "3d215a81-9118-4adf-882e-ebaed4fc5281",
   "metadata": {},
   "outputs": [
    {
     "data": {
      "text/plain": [
       "array(0.5)"
      ]
     },
     "execution_count": 14,
     "metadata": {},
     "output_type": "execute_result"
    }
   ],
   "source": [
    "# testval 지정도 가능\n",
    "with pm.Model() as model:\n",
    "    parameter = pm.Exponential(\"poisson_param\", 1.0, testval=0.5)\n",
    "\n",
    "parameter.tag.test_value"
   ]
  },
  {
   "cell_type": "markdown",
   "id": "40e340a4-ca33-4290-9108-8124864fae99",
   "metadata": {},
   "source": [
    "PyMC3의 변수는 두가지가 있다. `deterministic`한 변수와 `stochastic`한 변수."
   ]
  },
  {
   "cell_type": "markdown",
   "id": "19d7488c-7cd9-4c63-913c-4cadd787100b",
   "metadata": {},
   "source": [
    "### stochastic 변수 init\n",
    "\n",
    "```python\n",
    "some_variable = pm.SomeDistribution(name, *params)\n",
    "```"
   ]
  },
  {
   "cell_type": "markdown",
   "id": "30095043-bffd-41db-a0d2-546cd510dee0",
   "metadata": {},
   "source": [
    "### deterministic 변수"
   ]
  },
  {
   "cell_type": "markdown",
   "id": "5c7df2f1-4a02-4653-80b5-853435d257ed",
   "metadata": {},
   "source": [
    "#### 기본적인 operator로 implicit 하게 선언하기"
   ]
  },
  {
   "cell_type": "code",
   "execution_count": 15,
   "id": "35ff2700-6df1-434e-86b4-18699afbe2fe",
   "metadata": {},
   "outputs": [],
   "source": [
    "with pm.Model() as model:\n",
    "    lambda_1 = pm.Exponential(\"lambda_1\", 1.0)\n",
    "    lambda_2 = pm.Exponential(\"lambda_2\", 1.0)\n",
    "    tau = pm.DiscreteUniform(\"tau\", 0, 10)\n",
    "\n",
    "implicit_deteremined = lambda_1 + lambda_2"
   ]
  },
  {
   "cell_type": "code",
   "execution_count": 16,
   "id": "c9d72e27-a042-4c35-8dc4-6a3bfb8b39b4",
   "metadata": {},
   "outputs": [
    {
     "data": {
      "text/plain": [
       "Elemwise{add,no_inplace}.0"
      ]
     },
     "execution_count": 16,
     "metadata": {},
     "output_type": "execute_result"
    }
   ],
   "source": [
    "implicit_deteremined"
   ]
  },
  {
   "cell_type": "markdown",
   "id": "3cf02d0d-a9a0-4224-a65f-61fdd3b3b27e",
   "metadata": {},
   "source": [
    "#### `pm` 내 함수로 explicit 하게 선언하기"
   ]
  },
  {
   "cell_type": "code",
   "execution_count": 17,
   "id": "39a14e80-01c8-4af8-b89b-46e5a0f806ff",
   "metadata": {},
   "outputs": [],
   "source": [
    "import numpy as np\n",
    "\n",
    "n_data_points = 5\n",
    "idx = np.arange(n_data_points)\n",
    "\n",
    "with model:\n",
    "    # Elemwise 조건이 true이면 A, false이면 B\n",
    "    lambda_ = pm.math.switch(tau >= idx, lambda_1, lambda_2)"
   ]
  },
  {
   "cell_type": "markdown",
   "id": "71651581-be45-4d1a-9e7a-b18d4c045294",
   "metadata": {},
   "source": [
    "이런 식으로 아예 `pm.Deterministic`을 불러올 수도 있음\n",
    "```python\n",
    "stochastic_1 = pm.Uniform(\"U_1\", *arg1)\n",
    "stochastic_2 = pm.Uniform(\"U_2\", *arg2)\n",
    "\n",
    "det_1 = pm.Deterministic(\"delta\", some_func(stochastic_1, stochastic_2))\n",
    "```"
   ]
  },
  {
   "cell_type": "markdown",
   "id": "d92e05ca-4406-49de-b704-846fb4d3b499",
   "metadata": {},
   "source": [
    "## theano tensor"
   ]
  },
  {
   "cell_type": "code",
   "execution_count": 18,
   "id": "b257fdc3-5385-4a76-a1a2-edc9ffc31296",
   "metadata": {},
   "outputs": [],
   "source": [
    "import theano.tensor as tt\n",
    "\n",
    "with pm.Model() as theano_test:\n",
    "    p1 = pm.Uniform(\"p\", 0, 1)\n",
    "    p2 = 1 - p1\n",
    "    # np.stack과 비슷\n",
    "    p = tt.stack([p1, p2])\n",
    "    \n",
    "    assignment = pm.Categorical(\"assignment\", p)"
   ]
  },
  {
   "cell_type": "code",
   "execution_count": 19,
   "id": "267e54a1-cf11-406c-a49b-5268f1afe298",
   "metadata": {},
   "outputs": [
    {
     "name": "stdout",
     "output_type": "stream",
     "text": [
      "0.5\n",
      "0.5\n",
      "[0.5 0.5]\n"
     ]
    }
   ],
   "source": [
    "print(p1.tag.test_value)\n",
    "print(p2.tag.test_value)\n",
    "print(p.tag.test_value)"
   ]
  },
  {
   "cell_type": "markdown",
   "id": "b3d607b5-6cb1-4c32-aaba-3d33095a4e2b",
   "metadata": {},
   "source": [
    "## observations in the model"
   ]
  },
  {
   "cell_type": "code",
   "execution_count": 20,
   "id": "a0a6acdd-457e-4450-a7c2-f8088251a30c",
   "metadata": {},
   "outputs": [],
   "source": [
    "import matplotlib.pyplot as plt\n",
    "import scipy.stats as stats"
   ]
  },
  {
   "cell_type": "code",
   "execution_count": 21,
   "id": "d2d2eef1-bcf3-4f4f-91a7-f6536096c016",
   "metadata": {},
   "outputs": [
    {
     "data": {
      "image/png": "[encoded data removed]",
      "text/plain": [
       "<Figure size 900x288 with 1 Axes>"
      ]
     },
     "metadata": {
      "needs_background": "light"
     },
     "output_type": "display_data"
    }
   ],
   "source": [
    "samples = lambda_1.random(size=20000)\n",
    "plt.figure(figsize=(12.5, 4))\n",
    "plt.hist(samples, bins=70, density=True, histtype=\"stepfilled\")\n",
    "plt.title(\"prior distribution for $\\lambda_1$\")\n",
    "plt.xlim(0, 8);"
   ]
  },
  {
   "cell_type": "markdown",
   "id": "fd587680-2e62-4627-b943-2fe38d82c306",
   "metadata": {},
   "source": [
    "모델에 측정값을 입력하려면 `observed`에 데이터를 넣어주면 된다."
   ]
  },
  {
   "cell_type": "code",
   "execution_count": 22,
   "id": "f92f726a-dd57-4564-b1a7-ec4154e09a16",
   "metadata": {},
   "outputs": [
    {
     "name": "stdout",
     "output_type": "stream",
     "text": [
      "value:  [10  5]\n"
     ]
    }
   ],
   "source": [
    "data = np.array([10, 5])\n",
    "with model:\n",
    "    fixed_variable = pm.Poisson(\"fxd\", 1, observed=data)\n",
    "print(\"value: \", fixed_variable.tag.test_value)"
   ]
  },
  {
   "cell_type": "code",
   "execution_count": 23,
   "id": "46e567f7-fe35-474a-9cfa-9f4763432bf5",
   "metadata": {},
   "outputs": [
    {
     "name": "stdout",
     "output_type": "stream",
     "text": [
      "[10 25 15 20 15]\n"
     ]
    }
   ],
   "source": [
    "data = np.array([10, 25, 15, 20, 15])\n",
    "with model:\n",
    "    obs = pm.Poisson(\"obs\", lambda_, observed=data)\n",
    "print(obs.tag.test_value)"
   ]
  },
  {
   "cell_type": "code",
   "execution_count": 24,
   "id": "abf33f49-343f-4eff-9489-76e74832ee31",
   "metadata": {},
   "outputs": [
    {
     "data": {
      "text/latex": [
       "$\\text{obs} \\sim \\text{Poisson}(\\mathit{mu}=f(f(f(\\text{tau}),~array),~f(\\text{lambda_1}),~f(\\text{lambda_2})))$"
      ],
      "text/plain": [
       "obs ~ Poisson"
      ]
     },
     "execution_count": 24,
     "metadata": {},
     "output_type": "execute_result"
    }
   ],
   "source": [
    "obs"
   ]
  },
  {
   "cell_type": "markdown",
   "id": "1544d461-a6d5-4113-9afd-781357343249",
   "metadata": {},
   "source": [
    "## Example: Bayesian A/B testing"
   ]
  },
  {
   "cell_type": "markdown",
   "id": "a00a4490-7406-4e1d-bf7a-cde1887b8851",
   "metadata": {},
   "source": [
    "A 웹사이트에 $N$명이 들어와서 $n$명이 구매 $\\rightarrow p_A=\\frac{n}{N}$  \n",
    "일단 $p_A$를 균등분포 prior로 가정하자"
   ]
  },
  {
   "cell_type": "code",
   "execution_count": 25,
   "id": "366142df-b00e-4fca-bc05-456c499dc549",
   "metadata": {},
   "outputs": [],
   "source": [
    "with pm.Model() as model:\n",
    "    p = pm.Uniform(\"p\", 0, 1)"
   ]
  },
  {
   "cell_type": "code",
   "execution_count": 26,
   "id": "29286dcb-fd72-46f7-a89d-60713be7a498",
   "metadata": {},
   "outputs": [
    {
     "name": "stdout",
     "output_type": "stream",
     "text": [
      "[0 0 0 ... 0 0 0]\n",
      "83\n"
     ]
    }
   ],
   "source": [
    "# p_true 값을 잘 추정할 수 있는지 확인해보자\n",
    "p_true = 0.05  # hidden\n",
    "N = 1500\n",
    "\n",
    "# sampling\n",
    "occurences = stats.bernoulli.rvs(p_true, size=N)\n",
    "\n",
    "print(occurences)\n",
    "print(np.sum(occurences))"
   ]
  },
  {
   "cell_type": "code",
   "execution_count": 27,
   "id": "1350242f-0e96-4e3d-8bdd-28334e67e6fd",
   "metadata": {},
   "outputs": [
    {
     "data": {
      "text/plain": [
       "75.0"
      ]
     },
     "execution_count": 27,
     "metadata": {},
     "output_type": "execute_result"
    }
   ],
   "source": [
    "p_true * N"
   ]
  },
  {
   "cell_type": "code",
   "execution_count": 28,
   "id": "f405f9fe-d87d-4576-aa22-369b07005109",
   "metadata": {},
   "outputs": [
    {
     "name": "stderr",
     "output_type": "stream",
     "text": [
      "/var/folders/m2/xl06qxf96958pj9c450dz5nc0000gn/T/ipykernel_1406/3924705020.py:5: FutureWarning: In v4.0, pm.sample will return an `arviz.InferenceData` object instead of a `MultiTrace` by default. You can pass return_inferencedata=True or return_inferencedata=False to be safe and silence this warning.\n",
      "  trace = pm.sample(18000, step=step)\n",
      "Multiprocess sampling (4 chains in 4 jobs)\n",
      "Metropolis: [p]\n"
     ]
    },
    {
     "data": {
      "text/html": [
       "\n",
       "    <div>\n",
       "        <style>\n",
       "            /* Turns off some styling */\n",
       "            progress {\n",
       "                /* gets rid of default border in Firefox and Opera. */\n",
       "                border: none;\n",
       "                /* Needs to be in here for Safari polyfill so background images work as expected. */\n",
       "                background-size: auto;\n",
       "            }\n",
       "            .progress-bar-interrupted, .progress-bar-interrupted::-webkit-progress-bar {\n",
       "                background: #F44336;\n",
       "            }\n",
       "        </style>\n",
       "      <progress value='76000' class='' max='76000' style='width:300px; height:20px; vertical-align: middle;'></progress>\n",
       "      100.00% [76000/76000 00:03<00:00 Sampling 4 chains, 0 divergences]\n",
       "    </div>\n",
       "    "
      ],
      "text/plain": [
       "<IPython.core.display.HTML object>"
      ]
     },
     "metadata": {},
     "output_type": "display_data"
    },
    {
     "name": "stderr",
     "output_type": "stream",
     "text": [
      "Sampling 4 chains for 1_000 tune and 18_000 draw iterations (4_000 + 72_000 draws total) took 15 seconds.\n",
      "The number of effective samples is smaller than 25% for some parameters.\n"
     ]
    }
   ],
   "source": [
    "# Metropolis 시뮬레이션 시작\n",
    "with model:\n",
    "    obs = pm.Bernoulli(\"obs\", p, observed=occurences)\n",
    "    step = pm.Metropolis()\n",
    "    trace = pm.sample(18000, step=step)\n",
    "    burned_trace = trace[1000:]"
   ]
  },
  {
   "cell_type": "code",
   "execution_count": 29,
   "id": "f875b5f2-0a52-47f8-9449-5acfe2c21357",
   "metadata": {},
   "outputs": [
    {
     "data": {
      "image/png": "[encoded data removed]",
      "text/plain": [
       "<Figure size 900x288 with 1 Axes>"
      ]
     },
     "metadata": {
      "needs_background": "light"
     },
     "output_type": "display_data"
    }
   ],
   "source": [
    "plt.figure(figsize=(12.5, 4))\n",
    "plt.title(\"posterior distribution of $p_A$\")\n",
    "plt.vlines(p_true, 0, 90, linestyle=\"--\", label=\"true $p_A$\", color=\"black\")\n",
    "plt.hist(burned_trace[\"p\"], bins=25, histtype=\"stepfilled\", density=True)\n",
    "plt.legend();"
   ]
  },
  {
   "cell_type": "markdown",
   "id": "daaaddf8-1a33-41c1-8dc8-dc19ab2e8cb2",
   "metadata": {},
   "source": [
    "이번에 두가지를 비교해보자.  \n",
    "A 웹사이트에 $N_A$명이 들어와서 $n_A$명이 구매 $\\rightarrow p_A=\\frac{n_A}{N_A}$  \n",
    "B 웹사이트에 $N_B$명이 들어와서 $n_B$명이 구매 $\\rightarrow p_B=\\frac{n_B}{N_B}$"
   ]
  },
  {
   "cell_type": "code",
   "execution_count": 30,
   "id": "e37b3691-557f-4049-b57b-c68b323c0e90",
   "metadata": {},
   "outputs": [
    {
     "data": {
      "text/plain": [
       "0.05593365854837887"
      ]
     },
     "execution_count": 30,
     "metadata": {},
     "output_type": "execute_result"
    }
   ],
   "source": [
    "burned_trace[\"p\"].mean()"
   ]
  },
  {
   "cell_type": "code",
   "execution_count": 31,
   "id": "70d9624d-b0c2-4e6b-b1dd-6eccd6527fee",
   "metadata": {},
   "outputs": [
    {
     "name": "stdout",
     "output_type": "stream",
     "text": [
      "0.05533333333333333\n",
      "0.029333333333333333\n"
     ]
    }
   ],
   "source": [
    "# p_true 값들과, delta = p_A - p_B 를 추정해보자\n",
    "p_A_true = 0.05\n",
    "p_B_true = 0.04\n",
    "\n",
    "# 샘플 사이즈는 서로 다르다.\n",
    "N_A = 1500\n",
    "N_B = 750\n",
    "\n",
    "observed_A = stats.bernoulli.rvs(p_A_true, size=N_A)\n",
    "observed_B = stats.bernoulli.rvs(p_B_true, size=N_B)\n",
    "\n",
    "print(np.mean(observed_A))\n",
    "print(np.mean(observed_B))"
   ]
  },
  {
   "cell_type": "code",
   "execution_count": 32,
   "id": "37529e19-5f05-4df0-bef9-2d736b188837",
   "metadata": {},
   "outputs": [
    {
     "name": "stderr",
     "output_type": "stream",
     "text": [
      "/var/folders/m2/xl06qxf96958pj9c450dz5nc0000gn/T/ipykernel_1406/2734986633.py:11: FutureWarning: In v4.0, pm.sample will return an `arviz.InferenceData` object instead of a `MultiTrace` by default. You can pass return_inferencedata=True or return_inferencedata=False to be safe and silence this warning.\n",
      "  trace = pm.sample(20000, step=step)\n",
      "Multiprocess sampling (4 chains in 4 jobs)\n",
      "CompoundStep\n",
      ">Metropolis: [p_B]\n",
      ">Metropolis: [p_A]\n"
     ]
    },
    {
     "data": {
      "text/html": [
       "\n",
       "    <div>\n",
       "        <style>\n",
       "            /* Turns off some styling */\n",
       "            progress {\n",
       "                /* gets rid of default border in Firefox and Opera. */\n",
       "                border: none;\n",
       "                /* Needs to be in here for Safari polyfill so background images work as expected. */\n",
       "                background-size: auto;\n",
       "            }\n",
       "            .progress-bar-interrupted, .progress-bar-interrupted::-webkit-progress-bar {\n",
       "                background: #F44336;\n",
       "            }\n",
       "        </style>\n",
       "      <progress value='84000' class='' max='84000' style='width:300px; height:20px; vertical-align: middle;'></progress>\n",
       "      100.00% [84000/84000 00:05<00:00 Sampling 4 chains, 0 divergences]\n",
       "    </div>\n",
       "    "
      ],
      "text/plain": [
       "<IPython.core.display.HTML object>"
      ]
     },
     "metadata": {},
     "output_type": "display_data"
    },
    {
     "name": "stderr",
     "output_type": "stream",
     "text": [
      "Sampling 4 chains for 1_000 tune and 20_000 draw iterations (4_000 + 80_000 draws total) took 16 seconds.\n",
      "The number of effective samples is smaller than 25% for some parameters.\n"
     ]
    }
   ],
   "source": [
    "with pm.Model() as model:\n",
    "    p_A = pm.Uniform(\"p_A\", 0, 1)\n",
    "    p_B = pm.Uniform(\"p_B\", 0, 1)\n",
    "    \n",
    "    delta = pm.Deterministic(\"delta\", p_A - p_B)\n",
    "    \n",
    "    obs_A = pm.Bernoulli(\"obs_A\", p_A, observed=observed_A)\n",
    "    obs_B = pm.Bernoulli(\"obs_B\", p_B, observed=observed_B)\n",
    "    \n",
    "    step = pm.Metropolis()\n",
    "    trace = pm.sample(20000, step=step)\n",
    "    burned_trace = trace[1000:]"
   ]
  },
  {
   "cell_type": "code",
   "execution_count": 33,
   "id": "cff31815-6e93-4fc0-8638-0558a42aeb0d",
   "metadata": {},
   "outputs": [],
   "source": [
    "p_A_samples = burned_trace[\"p_A\"]\n",
    "p_B_samples = burned_trace[\"p_B\"]\n",
    "delta_samples = burned_trace[\"delta\"]"
   ]
  },
  {
   "cell_type": "code",
   "execution_count": 34,
   "id": "d5c41a15-93c2-44ad-b7e1-362dbddb5065",
   "metadata": {},
   "outputs": [
    {
     "data": {
      "image/png": "[encoded data removed]",
      "text/plain": [
       "<Figure size 900x720 with 3 Axes>"
      ]
     },
     "metadata": {
      "needs_background": "light"
     },
     "output_type": "display_data"
    }
   ],
   "source": [
    "plt.figure(figsize=(12.5, 10))\n",
    "\n",
    "#histogram of posteriors\n",
    "\n",
    "ax = plt.subplot(311)\n",
    "\n",
    "plt.xlim(0, .1)\n",
    "plt.hist(p_A_samples, histtype='stepfilled', bins=25, alpha=0.85,\n",
    "         label=\"posterior of $p_A$\", color=\"#A60628\", density=True)\n",
    "plt.vlines(p_A_true, 0, 80, linestyle=\"--\", label=\"true $p_A$ (unknown)\")\n",
    "plt.legend(loc=\"upper right\")\n",
    "plt.title(\"Posterior distributions of $p_A$, $p_B$, and delta unknowns\")\n",
    "\n",
    "ax = plt.subplot(312)\n",
    "\n",
    "plt.xlim(0, .1)\n",
    "plt.hist(p_B_samples, histtype='stepfilled', bins=25, alpha=0.85,\n",
    "         label=\"posterior of $p_B$\", color=\"#467821\", density=True)\n",
    "plt.vlines(p_B_true, 0, 80, linestyle=\"--\", label=\"true $p_B$ (unknown)\")\n",
    "plt.legend(loc=\"upper right\")\n",
    "\n",
    "ax = plt.subplot(313)\n",
    "plt.hist(delta_samples, histtype='stepfilled', bins=30, alpha=0.85,\n",
    "         label=\"posterior of delta\", color=\"#7A68A6\", density=True)\n",
    "plt.vlines(p_A_true - p_B_true, 0, 60, linestyle=\"--\",\n",
    "           label=\"true delta (unknown)\")\n",
    "plt.vlines(0, 0, 60, color=\"black\", alpha=0.2)\n",
    "plt.legend(loc=\"upper right\");"
   ]
  },
  {
   "cell_type": "code",
   "execution_count": 35,
   "id": "060e316e-aa33-4bbb-936b-8314ba343f37",
   "metadata": {},
   "outputs": [
    {
     "data": {
      "text/plain": [
       "0.002105263157894737"
      ]
     },
     "execution_count": 35,
     "metadata": {},
     "output_type": "execute_result"
    }
   ],
   "source": [
    "np.mean(delta_samples < 0)  # p_A - p_B < 0일 확률"
   ]
  },
  {
   "cell_type": "markdown",
   "id": "62305296-147e-44b6-9f1d-90f1818c9556",
   "metadata": {},
   "source": [
    "## Example: 거짓말에 대한 알고리즘\n",
    "\n",
    "### 알고리즘 소개 \n",
    "- 프라이버시는 지키면서 솔직하게 대답을 듣기 위한 알고리즘\n",
    "- 부정행위가 일어난 빈도를 확인하고 싶다.\n",
    "1. 인터뷰 전에 학생들에게 동전을 던지게 한다. \n",
    "2. 동전 던지기 결과에 따라 참/거짓이 달라진다.\n",
    "    - H: 솔직하게 말한다. (참만 말한다.)\n",
    "    - T: 다시 한번 동전을 던져서 그 결과로만 말한다. (랜덤)\n",
    "        - H2: 부정행위를 했다고 말한다. (대신 처벌받진 않는다.)\n",
    "        - T2: 부정행위를 안했다고 말한다. (부정행위 했더라도 이렇게 대답한다.)\n",
    "\n",
    "### 모델링\n",
    "- 전체 학생 $N$\n",
    "- 부정행위가 일어난 비율 $p$\n",
    "- 부정행위에 대한 likelihoood $X \\sim \\mathrm{Bin}(N, p)$\n",
    "- 첫번째, 두번째 코인 토스에서 Head $X_1, X_2 \\sim \\mathrm{Bin}(N, 0.5)$\n",
    "- 첫번째 코인 토스 때 H라서 사실대로 말한 경우\n",
    "    - $x \\cdot x_1$\n",
    "- 첫번째 코인이 T고, 두번째 코인 토스에서는 H라서 부정행위를 했다고 말한 경우\n",
    "    - $(1 - x_1) \\cdot x_2$\n",
    "- \"부정행위를 했습니다.\"라고 측정되는 확률변수\n",
    "    - $\\text{obs} = x \\cdot x_1 + (1 - x_1) \\cdot x_2$"
   ]
  },
  {
   "cell_type": "code",
   "execution_count": 36,
   "id": "9584d2b5-54d9-44c2-921f-9b66363000bf",
   "metadata": {},
   "outputs": [],
   "source": [
    "with pm.Model() as model:\n",
    "    N = 100\n",
    "    p = pm.Uniform(\"freq_cheating\", 0, 1)\n",
    "    cheat = pm.Bernoulli(\"cheat\", p, shape=N, testval=np.random.binomial(1, 0.5, N))\n",
    "    x1 = pm.Bernoulli(\"first_coin\", 0.5, shape=N, testval=np.random.binomial(1, 0.5, N))\n",
    "    x2 = pm.Bernoulli(\"second_coin\", 0.5, shape=N, testval=np.random.binomial(1, 0.5, N))\n",
    "    obs_array = cheat * x1 + (1 - x1) * x2\n",
    "    obs_prop = pm.Deterministic(\"obs_prop\", tt.sum(obs_array) / float(N))"
   ]
  },
  {
   "cell_type": "code",
   "execution_count": 37,
   "id": "74dc9c03-8545-4437-a48b-6669f1b0cc2f",
   "metadata": {},
   "outputs": [
    {
     "data": {
      "text/plain": [
       "50.999999046325684"
      ]
     },
     "execution_count": 37,
     "metadata": {},
     "output_type": "execute_result"
    }
   ],
   "source": [
    "obs_prop.tag.test_value * N"
   ]
  },
  {
   "cell_type": "code",
   "execution_count": 38,
   "id": "3fe0fed0-46b7-4810-a854-6da25e88f0f2",
   "metadata": {},
   "outputs": [
    {
     "name": "stderr",
     "output_type": "stream",
     "text": [
      "/var/folders/m2/xl06qxf96958pj9c450dz5nc0000gn/T/ipykernel_1406/4224314261.py:5: FutureWarning: In v4.0, pm.sample will return an `arviz.InferenceData` object instead of a `MultiTrace` by default. You can pass return_inferencedata=True or return_inferencedata=False to be safe and silence this warning.\n",
      "  trace = pm.sample(40000, step=step)\n",
      "Multiprocess sampling (4 chains in 4 jobs)\n",
      "CompoundStep\n",
      ">Metropolis: [freq_cheating]\n",
      ">BinaryGibbsMetropolis: [cheat, first_coin, second_coin]\n"
     ]
    },
    {
     "data": {
      "text/html": [
       "\n",
       "    <div>\n",
       "        <style>\n",
       "            /* Turns off some styling */\n",
       "            progress {\n",
       "                /* gets rid of default border in Firefox and Opera. */\n",
       "                border: none;\n",
       "                /* Needs to be in here for Safari polyfill so background images work as expected. */\n",
       "                background-size: auto;\n",
       "            }\n",
       "            .progress-bar-interrupted, .progress-bar-interrupted::-webkit-progress-bar {\n",
       "                background: #F44336;\n",
       "            }\n",
       "        </style>\n",
       "      <progress value='164000' class='' max='164000' style='width:300px; height:20px; vertical-align: middle;'></progress>\n",
       "      100.00% [164000/164000 06:29<00:00 Sampling 4 chains, 0 divergences]\n",
       "    </div>\n",
       "    "
      ],
      "text/plain": [
       "<IPython.core.display.HTML object>"
      ]
     },
     "metadata": {},
     "output_type": "display_data"
    },
    {
     "name": "stderr",
     "output_type": "stream",
     "text": [
      "Sampling 4 chains for 1_000 tune and 40_000 draw iterations (4_000 + 160_000 draws total) took 400 seconds.\n",
      "The number of effective samples is smaller than 10% for some parameters.\n"
     ]
    }
   ],
   "source": [
    "X = 35\n",
    "with model:\n",
    "    obs = pm.Binomial(\"obs\", N, obs_prop, observed=X)\n",
    "    step = pm.Metropolis(vars=[p])\n",
    "    trace = pm.sample(40000, step=step)\n",
    "    burned_trace = trace[15000:]"
   ]
  },
  {
   "cell_type": "code",
   "execution_count": 40,
   "id": "05839837-c026-4eed-9c7c-d37639c1eda0",
   "metadata": {},
   "outputs": [
    {
     "data": {
      "image/png": "[encoded data removed]",
      "text/plain": [
       "<Figure size 900x216 with 1 Axes>"
      ]
     },
     "metadata": {
      "needs_background": "light"
     },
     "output_type": "display_data"
    }
   ],
   "source": [
    "plt.figure(figsize=(12.5, 3))\n",
    "p_trace = burned_trace[\"freq_cheating\"]\n",
    "plt.hist(p_trace, histtype=\"stepfilled\", density=True, alpha=0.85, bins=30,\n",
    "         label=\"posterior\", color=\"#348ABD\")\n",
    "plt.vlines([.05, .35], [0, 0], [5, 5], alpha=0.3)\n",
    "plt.xlim(0, 1)\n",
    "plt.legend();"
   ]
  },
  {
   "cell_type": "markdown",
   "id": "72d1933b-be60-469b-8fce-d217022e489f",
   "metadata": {},
   "source": [
    "### 모델링을 다르게\n",
    "\n",
    "$$ P(\"Yes\") = P(H1)P(cheat) + P(T1)P(H2)$$\n",
    "$$ P(\"Yes\") = p/2 + 1/4$$"
   ]
  },
  {
   "cell_type": "code",
   "execution_count": 41,
   "id": "d33a2bf7-fe4e-4faf-9a40-6e99f70bdbd7",
   "metadata": {},
   "outputs": [
    {
     "name": "stderr",
     "output_type": "stream",
     "text": [
      "/var/folders/m2/xl06qxf96958pj9c450dz5nc0000gn/T/ipykernel_1406/618680817.py:6: FutureWarning: In v4.0, pm.sample will return an `arviz.InferenceData` object instead of a `MultiTrace` by default. You can pass return_inferencedata=True or return_inferencedata=False to be safe and silence this warning.\n",
      "  trace = pm.sample(25000, step=step)\n",
      "Multiprocess sampling (4 chains in 4 jobs)\n",
      "Metropolis: [freq_cheating]\n"
     ]
    },
    {
     "data": {
      "text/html": [
       "\n",
       "    <div>\n",
       "        <style>\n",
       "            /* Turns off some styling */\n",
       "            progress {\n",
       "                /* gets rid of default border in Firefox and Opera. */\n",
       "                border: none;\n",
       "                /* Needs to be in here for Safari polyfill so background images work as expected. */\n",
       "                background-size: auto;\n",
       "            }\n",
       "            .progress-bar-interrupted, .progress-bar-interrupted::-webkit-progress-bar {\n",
       "                background: #F44336;\n",
       "            }\n",
       "        </style>\n",
       "      <progress value='104000' class='' max='104000' style='width:300px; height:20px; vertical-align: middle;'></progress>\n",
       "      100.00% [104000/104000 00:05<00:00 Sampling 4 chains, 0 divergences]\n",
       "    </div>\n",
       "    "
      ],
      "text/plain": [
       "<IPython.core.display.HTML object>"
      ]
     },
     "metadata": {},
     "output_type": "display_data"
    },
    {
     "name": "stderr",
     "output_type": "stream",
     "text": [
      "Sampling 4 chains for 1_000 tune and 25_000 draw iterations (4_000 + 100_000 draws total) took 17 seconds.\n",
      "The number of effective samples is smaller than 25% for some parameters.\n"
     ]
    }
   ],
   "source": [
    "with pm.Model() as model_alter:\n",
    "    p = pm.Uniform(\"freq_cheating\", 0, 1)\n",
    "    p_skewed = pm.Deterministic(\"p_skewed\", 0.5*p + 0.25)\n",
    "    yes_resposes = pm.Binomial(\"number_cheaters\", N, p_skewed, observed=X)\n",
    "    step = pm.Metropolis()\n",
    "    trace = pm.sample(25000, step=step)\n",
    "    burned_trace = trace[2500:]"
   ]
  },
  {
   "cell_type": "code",
   "execution_count": 42,
   "id": "32e19234-adfa-4c79-b647-ab06e1681e30",
   "metadata": {},
   "outputs": [
    {
     "data": {
      "image/png": "[encoded data removed]",
      "text/plain": [
       "<Figure size 900x216 with 1 Axes>"
      ]
     },
     "metadata": {
      "needs_background": "light"
     },
     "output_type": "display_data"
    }
   ],
   "source": [
    "plt.figure(figsize=(12.5, 3))\n",
    "p_trace = burned_trace[\"freq_cheating\"]\n",
    "plt.hist(p_trace, histtype=\"stepfilled\", density=True, alpha=0.85, bins=30,\n",
    "         label=\"posterior\", color=\"#348ABD\")\n",
    "plt.vlines([.05, .35], [0, 0], [5, 5], alpha=0.3)\n",
    "plt.xlim(0, 1)\n",
    "plt.legend();"
   ]
  },
  {
   "cell_type": "markdown",
   "id": "dd0f02d2-60df-4438-8e01-556ec36c62ec",
   "metadata": {},
   "source": [
    "## 챌린저호 오링 문제"
   ]
  },
  {
   "cell_type": "code",
   "execution_count": 43,
   "id": "afc363ec-9870-4115-82cb-fe14a8b9a9a4",
   "metadata": {},
   "outputs": [],
   "source": [
    "np.set_printoptions(precision=3, suppress=True)\n",
    "challenger_data = np.genfromtxt(\"datasets/challenger_data.csv\", skip_header=1,\n",
    "                                usecols=[1, 2], missing_values=\"NA\",\n",
    "                                delimiter=\",\")"
   ]
  },
  {
   "cell_type": "code",
   "execution_count": 44,
   "id": "6a6c34ff-d2cf-47ad-a037-3ee9eac9bb18",
   "metadata": {},
   "outputs": [
    {
     "data": {
      "text/plain": [
       "array([[66.,  0.],\n",
       "       [70.,  1.],\n",
       "       [69.,  0.],\n",
       "       [80., nan],\n",
       "       [68.,  0.],\n",
       "       [67.,  0.],\n",
       "       [72.,  0.],\n",
       "       [73.,  0.],\n",
       "       [70.,  0.],\n",
       "       [57.,  1.],\n",
       "       [63.,  1.],\n",
       "       [70.,  1.],\n",
       "       [78.,  0.],\n",
       "       [67.,  0.],\n",
       "       [53.,  1.],\n",
       "       [67.,  0.],\n",
       "       [75.,  0.],\n",
       "       [70.,  0.],\n",
       "       [81.,  0.],\n",
       "       [76.,  0.],\n",
       "       [79.,  0.],\n",
       "       [75.,  1.],\n",
       "       [76.,  0.],\n",
       "       [58.,  1.],\n",
       "       [31., nan]])"
      ]
     },
     "execution_count": 44,
     "metadata": {},
     "output_type": "execute_result"
    }
   ],
   "source": [
    "challenger_data"
   ]
  },
  {
   "cell_type": "code",
   "execution_count": 45,
   "id": "39138577-62aa-4485-8c4a-8f10e3a1284d",
   "metadata": {},
   "outputs": [],
   "source": [
    "# drop NA\n",
    "challenger_data = challenger_data[~np.isnan(challenger_data[:, 1])]"
   ]
  },
  {
   "cell_type": "code",
   "execution_count": 46,
   "id": "1e70e619-8eeb-449b-b772-4369fa9a69d6",
   "metadata": {},
   "outputs": [
    {
     "data": {
      "image/png": "[encoded data removed]",
      "text/plain": [
       "<Figure size 900x252 with 1 Axes>"
      ]
     },
     "metadata": {
      "needs_background": "light"
     },
     "output_type": "display_data"
    }
   ],
   "source": [
    "plt.figure(figsize=(12.5, 3.5))\n",
    "plt.scatter(challenger_data[:, 0], challenger_data[:, 1], s=75, color=\"k\", alpha=0.5)\n",
    "plt.yticks([0, 1])\n",
    "plt.ylabel(\"Damaged\")\n",
    "plt.xlabel(\"Outside Temperature (in F)\");"
   ]
  },
  {
   "cell_type": "code",
   "execution_count": 47,
   "id": "a143ee31-e9ed-4329-a17d-28ece87c3e12",
   "metadata": {},
   "outputs": [],
   "source": [
    "def logistic(x, beta):\n",
    "    return 1 / (1 + np.exp(beta * x))"
   ]
  },
  {
   "cell_type": "code",
   "execution_count": 48,
   "id": "7b20d065-f10e-4aa8-a55f-cff8d8ee69da",
   "metadata": {},
   "outputs": [
    {
     "data": {
      "image/png": "[encoded data removed]",
      "text/plain": [
       "<Figure size 864x216 with 1 Axes>"
      ]
     },
     "metadata": {
      "needs_background": "light"
     },
     "output_type": "display_data"
    }
   ],
   "source": [
    "plt.figure(figsize=(12, 3))\n",
    "\n",
    "x = np.linspace(-4, 4, 100)\n",
    "plt.plot(x, logistic(x, 1), label=r\"$\\beta=1$\")\n",
    "plt.plot(x, logistic(x, 3), label=r\"$\\beta=3$\")\n",
    "plt.plot(x, logistic(x, -5), label=r\"$\\beta=-5$\")\n",
    "plt.legend();"
   ]
  },
  {
   "cell_type": "markdown",
   "id": "f6726d81-e217-4407-8c41-f865d8ce025b",
   "metadata": {},
   "source": [
    " - logistic\n",
    " $$ p(t) = \\frac{1}{1 + e^{\\beta t + \\alpha}} $$"
   ]
  },
  {
   "cell_type": "code",
   "execution_count": 49,
   "id": "2adf1ae1-e4b0-4562-96b0-57ef0144036c",
   "metadata": {},
   "outputs": [],
   "source": [
    "def logistic(x, beta, alpha):\n",
    "    return 1 / (1 + np.exp(np.dot(beta, x) + alpha))"
   ]
  },
  {
   "cell_type": "code",
   "execution_count": 50,
   "id": "0b32f239-60b8-4ade-9026-12ec55430922",
   "metadata": {},
   "outputs": [
    {
     "data": {
      "text/html": [
       "\n",
       "    <div>\n",
       "        <style>\n",
       "            /* Turns off some styling */\n",
       "            progress {\n",
       "                /* gets rid of default border in Firefox and Opera. */\n",
       "                border: none;\n",
       "                /* Needs to be in here for Safari polyfill so background images work as expected. */\n",
       "                background-size: auto;\n",
       "            }\n",
       "            .progress-bar-interrupted, .progress-bar-interrupted::-webkit-progress-bar {\n",
       "                background: #F44336;\n",
       "            }\n",
       "        </style>\n",
       "      <progress value='26' class='' max='26' style='width:300px; height:20px; vertical-align: middle;'></progress>\n",
       "      100.00% [26/26 00:00<00:00 logp = -19.024, ||grad|| = 9.9071]\n",
       "    </div>\n",
       "    "
      ],
      "text/plain": [
       "<IPython.core.display.HTML object>"
      ]
     },
     "metadata": {},
     "output_type": "display_data"
    },
    {
     "name": "stdout",
     "output_type": "stream",
     "text": [
      "\n"
     ]
    },
    {
     "name": "stderr",
     "output_type": "stream",
     "text": [
      "/var/folders/m2/xl06qxf96958pj9c450dz5nc0000gn/T/ipykernel_1406/4135964653.py:12: FutureWarning: In v4.0, pm.sample will return an `arviz.InferenceData` object instead of a `MultiTrace` by default. You can pass return_inferencedata=True or return_inferencedata=False to be safe and silence this warning.\n",
      "  trace = pm.sample(120000, step=step, start=start)\n",
      "Multiprocess sampling (4 chains in 4 jobs)\n",
      "CompoundStep\n",
      ">Metropolis: [alpha]\n",
      ">Metropolis: [beta]\n"
     ]
    },
    {
     "data": {
      "text/html": [
       "\n",
       "    <div>\n",
       "        <style>\n",
       "            /* Turns off some styling */\n",
       "            progress {\n",
       "                /* gets rid of default border in Firefox and Opera. */\n",
       "                border: none;\n",
       "                /* Needs to be in here for Safari polyfill so background images work as expected. */\n",
       "                background-size: auto;\n",
       "            }\n",
       "            .progress-bar-interrupted, .progress-bar-interrupted::-webkit-progress-bar {\n",
       "                background: #F44336;\n",
       "            }\n",
       "        </style>\n",
       "      <progress value='484000' class='' max='484000' style='width:300px; height:20px; vertical-align: middle;'></progress>\n",
       "      100.00% [484000/484000 00:29<00:00 Sampling 4 chains, 0 divergences]\n",
       "    </div>\n",
       "    "
      ],
      "text/plain": [
       "<IPython.core.display.HTML object>"
      ]
     },
     "metadata": {},
     "output_type": "display_data"
    },
    {
     "name": "stderr",
     "output_type": "stream",
     "text": [
      "Sampling 4 chains for 1_000 tune and 120_000 draw iterations (4_000 + 480_000 draws total) took 40 seconds.\n",
      "The number of effective samples is smaller than 10% for some parameters.\n"
     ]
    }
   ],
   "source": [
    "temp = challenger_data[:, 0]\n",
    "D = challenger_data[:, 1]  # Defect or Not\n",
    "\n",
    "with pm.Model() as model:\n",
    "    beta = pm.Normal(\"beta\", mu=0, tau=0.001, testval=0)\n",
    "    alpha = pm.Normal(\"alpha\", mu=0, tau=0.001, testval=0)\n",
    "    p = pm.Deterministic(\"p\", 1 / (1 + tt.exp(beta*temp + alpha)))\n",
    "    observed = pm.Bernoulli(\"bernouilli_obs\", p, observed=D)\n",
    "    \n",
    "    start = pm.find_MAP()\n",
    "    step = pm.Metropolis()\n",
    "    trace = pm.sample(120000, step=step, start=start)\n",
    "    burned_trace = trace[100000::2]"
   ]
  },
  {
   "cell_type": "code",
   "execution_count": 51,
   "id": "b40a940e-1768-4536-94ff-63444d281830",
   "metadata": {},
   "outputs": [],
   "source": [
    "alpha_samples = burned_trace[\"alpha\"][:, np.newaxis]\n",
    "beta_samples = burned_trace[\"beta\"][:, np.newaxis]"
   ]
  },
  {
   "cell_type": "code",
   "execution_count": 52,
   "id": "421195b8-f7f2-4e44-93cd-e3e55b459a22",
   "metadata": {},
   "outputs": [
    {
     "data": {
      "image/png": "[encoded data removed]",
      "text/plain": [
       "<Figure size 900x432 with 2 Axes>"
      ]
     },
     "metadata": {
      "needs_background": "light"
     },
     "output_type": "display_data"
    }
   ],
   "source": [
    "plt.figure(figsize=(12.5, 6))\n",
    "\n",
    "plt.subplot(211)\n",
    "plt.hist(beta_samples, histtype=\"stepfilled\", bins=35, alpha=0.85,\n",
    "         label=r\"posterior of $\\beta$\", color=\"#7A68A6\", density=True)\n",
    "plt.legend()\n",
    "\n",
    "plt.subplot(212)\n",
    "plt.hist(alpha_samples, histtype=\"stepfilled\", bins=35, alpha=0.85,\n",
    "         label=r\"posterior of $\\alpha$\", color=\"#A60628\", density=True)\n",
    "plt.legend();"
   ]
  },
  {
   "cell_type": "code",
   "execution_count": 53,
   "id": "52c5a9de-bace-4573-98e0-60a9a39cb07e",
   "metadata": {},
   "outputs": [
    {
     "data": {
      "text/plain": [
       "array([[0.366],\n",
       "       [0.366],\n",
       "       [0.344],\n",
       "       ...,\n",
       "       [0.331],\n",
       "       [0.341],\n",
       "       [0.341]])"
      ]
     },
     "execution_count": 53,
     "metadata": {},
     "output_type": "execute_result"
    }
   ],
   "source": [
    "beta_samples"
   ]
  },
  {
   "cell_type": "code",
   "execution_count": 54,
   "id": "4816d90e-ebfe-4ea4-bb8a-9a8ad97ce90f",
   "metadata": {},
   "outputs": [],
   "source": [
    "t = np.linspace(temp.min() - 5, temp.max() + 5, 50)[:, np.newaxis]  # plotting mesh\n",
    "p_t = logistic(t.T, beta_samples, alpha_samples)\n",
    "mean_prob_t = p_t.mean(axis=0)"
   ]
  },
  {
   "cell_type": "code",
   "execution_count": 55,
   "id": "6167e652-ccda-4044-8d3a-4f679cd4454c",
   "metadata": {},
   "outputs": [
    {
     "data": {
      "image/png": "[encoded data removed]",
      "text/plain": [
       "<Figure size 900x288 with 1 Axes>"
      ]
     },
     "metadata": {
      "needs_background": "light"
     },
     "output_type": "display_data"
    }
   ],
   "source": [
    "plt.figure(figsize=(12.5, 4))\n",
    "\n",
    "plt.plot(t, mean_prob_t, lw=3, label=\"average posterior\")\n",
    "plt.plot(t, p_t[0, :], ls=\"--\", label=\"realization from post\")\n",
    "plt.plot(t, p_t[-2, :], ls=\"--\", label=\"realization from post\")\n",
    "plt.scatter(temp, D, color=\"k\", s=50, alpha=0.5)\n",
    "plt.legend(loc=\"lower left\")\n",
    "plt.ylim(-0.1, 1.1)\n",
    "plt.xlim(t.min(), t.max())\n",
    "plt.ylabel(\"prob\")\n",
    "plt.xlabel(\"temperature\");"
   ]
  },
  {
   "cell_type": "code",
   "execution_count": 60,
   "id": "76791b32-b61f-400e-9f49-c2830c04bf34",
   "metadata": {},
   "outputs": [
    {
     "data": {
      "text/plain": [
       "masked_array(\n",
       "  data=[[0.625, 0.61 , 0.596, 0.579, 0.563, 0.547, 0.532, 0.514, 0.497,\n",
       "         0.479, 0.462, 0.444, 0.428, 0.409, 0.389, 0.371, 0.352, 0.332,\n",
       "         0.309, 0.287, 0.264, 0.24 , 0.215, 0.189, 0.165, 0.141, 0.117,\n",
       "         0.096, 0.077, 0.06 , 0.047, 0.036, 0.027, 0.02 , 0.015, 0.011,\n",
       "         0.008, 0.006, 0.004, 0.003, 0.002, 0.001, 0.001, 0.001, 0.001,\n",
       "         0.   , 0.   , 0.   , 0.   , 0.   ],\n",
       "        [1.   , 1.   , 1.   , 0.999, 0.999, 0.999, 0.998, 0.998, 0.997,\n",
       "         0.995, 0.994, 0.991, 0.988, 0.983, 0.976, 0.967, 0.955, 0.938,\n",
       "         0.917, 0.889, 0.855, 0.814, 0.767, 0.716, 0.662, 0.61 , 0.558,\n",
       "         0.51 , 0.468, 0.43 , 0.396, 0.367, 0.341, 0.318, 0.298, 0.279,\n",
       "         0.262, 0.246, 0.232, 0.22 , 0.208, 0.196, 0.184, 0.174, 0.165,\n",
       "         0.156, 0.147, 0.139, 0.132, 0.126]],\n",
       "  mask=False,\n",
       "  fill_value=1e+20)"
      ]
     },
     "execution_count": 60,
     "metadata": {},
     "output_type": "execute_result"
    }
   ],
   "source": [
    "qs"
   ]
  },
  {
   "cell_type": "code",
   "execution_count": 61,
   "id": "00bcd596-0ae5-4f9e-a7bd-f884cdfe3516",
   "metadata": {},
   "outputs": [
    {
     "data": {
      "image/png": "[encoded data removed]",
      "text/plain": [
       "<Figure size 900x288 with 1 Axes>"
      ]
     },
     "metadata": {
      "needs_background": "light"
     },
     "output_type": "display_data"
    }
   ],
   "source": [
    "from scipy.stats.mstats import mquantiles\n",
    "\n",
    "plt.figure(figsize=(12.5, 4))\n",
    "\n",
    "qs = mquantiles(p_t, [0.025, 0.975], axis=0)\n",
    "plt.fill_between(t[:, 0], *qs, alpha=0.7)\n",
    "\n",
    "plt.plot(t[:, 0], qs[0], label=\"95% CI\", color=\"#7A68A6\", alpha=0.7)\n",
    "plt.plot(t, mean_prob_t, lw=1, ls=\"--\", color=\"k\", \n",
    "         label=\"average posterior\")\n",
    "\n",
    "plt.xlim(t.min(), t.max())\n",
    "plt.ylim(-0.02, 1.02)\n",
    "plt.legend(loc=\"lower left\")\n",
    "plt.scatter(temp, D, color=\"k\", s=50, alpha=0.5)\n",
    "plt.xlabel(\"temp, $t$\");"
   ]
  },
  {
   "cell_type": "code",
   "execution_count": 62,
   "id": "73d588c4-1d59-4402-bf28-1157ab65c606",
   "metadata": {},
   "outputs": [],
   "source": [
    "# prob when Temp = 31\n",
    "prob_31 = logistic(31, beta=beta_samples, alpha=alpha_samples)"
   ]
  },
  {
   "cell_type": "code",
   "execution_count": 67,
   "id": "bc040e32-bf7f-4e3d-9dce-0821db7c67f6",
   "metadata": {},
   "outputs": [
    {
     "data": {
      "text/plain": [
       "(40000, 1)"
      ]
     },
     "execution_count": 67,
     "metadata": {},
     "output_type": "execute_result"
    }
   ],
   "source": [
    "prob_31.shape"
   ]
  },
  {
   "cell_type": "code",
   "execution_count": 65,
   "id": "2f71d46f-3f51-48fb-9264-e18aa2307d33",
   "metadata": {},
   "outputs": [
    {
     "data": {
      "image/png": "[encoded data removed]",
      "text/plain": [
       "<Figure size 900x180 with 1 Axes>"
      ]
     },
     "metadata": {
      "needs_background": "light"
     },
     "output_type": "display_data"
    }
   ],
   "source": [
    "plt.figure(figsize=(12.5, 2.5))\n",
    "\n",
    "plt.xlim(0.995, 1)\n",
    "plt.hist(prob_31, bins=1000, density=True, histtype=\"stepfilled\");"
   ]
  },
  {
   "cell_type": "markdown",
   "id": "8e1dcd48-ba14-4b94-bc00-94bda36f6bc6",
   "metadata": {},
   "source": [
    "## 우리 모델이 맞는걸까?"
   ]
  },
  {
   "cell_type": "markdown",
   "id": "c765b57c-f253-4a8e-b05d-fce6b19ca244",
   "metadata": {},
   "source": [
    "1만번 돌려보기"
   ]
  },
  {
   "cell_type": "code",
   "execution_count": 68,
   "id": "0a1d0b37-dd3b-444d-aa3d-e9188cc92c43",
   "metadata": {},
   "outputs": [
    {
     "name": "stderr",
     "output_type": "stream",
     "text": [
      "/var/folders/m2/xl06qxf96958pj9c450dz5nc0000gn/T/ipykernel_1406/3990140142.py:10: FutureWarning: In v4.0, pm.sample will return an `arviz.InferenceData` object instead of a `MultiTrace` by default. You can pass return_inferencedata=True or return_inferencedata=False to be safe and silence this warning.\n",
      "  trace = pm.sample(N, step=step)\n",
      "Multiprocess sampling (4 chains in 4 jobs)\n",
      "CompoundStep\n",
      ">CompoundStep\n",
      ">>Metropolis: [beta]\n",
      ">>Metropolis: [alpha]\n",
      ">BinaryGibbsMetropolis: [bernoulli_sim]\n"
     ]
    },
    {
     "data": {
      "text/html": [
       "\n",
       "    <div>\n",
       "        <style>\n",
       "            /* Turns off some styling */\n",
       "            progress {\n",
       "                /* gets rid of default border in Firefox and Opera. */\n",
       "                border: none;\n",
       "                /* Needs to be in here for Safari polyfill so background images work as expected. */\n",
       "                background-size: auto;\n",
       "            }\n",
       "            .progress-bar-interrupted, .progress-bar-interrupted::-webkit-progress-bar {\n",
       "                background: #F44336;\n",
       "            }\n",
       "        </style>\n",
       "      <progress value='44000' class='' max='44000' style='width:300px; height:20px; vertical-align: middle;'></progress>\n",
       "      100.00% [44000/44000 00:08<00:00 Sampling 4 chains, 0 divergences]\n",
       "    </div>\n",
       "    "
      ],
      "text/plain": [
       "<IPython.core.display.HTML object>"
      ]
     },
     "metadata": {},
     "output_type": "display_data"
    },
    {
     "name": "stderr",
     "output_type": "stream",
     "text": [
      "Sampling 4 chains for 1_000 tune and 10_000 draw iterations (4_000 + 40_000 draws total) took 21 seconds.\n",
      "The rhat statistic is larger than 1.2 for some parameters.\n",
      "The estimated number of effective samples is smaller than 200 for some parameters.\n"
     ]
    }
   ],
   "source": [
    "N = 10000\n",
    "with pm.Model() as model:\n",
    "    beta = pm.Normal(\"beta\", mu=0, tau=0.001, testval=0)\n",
    "    alpha = pm.Normal(\"alpha\", mu=0, tau=0.001, testval=0)\n",
    "    p = pm.Deterministic(\"p\", 1.0 / (1. + tt.exp(beta * temp + alpha)))\n",
    "    observed = pm.Bernoulli(\"bernoulli_obs\", p, observed=D)\n",
    "    \n",
    "    simulated = pm.Bernoulli(\"bernoulli_sim\", p, shape=p.tag.test_value.shape)\n",
    "    step = pm.Metropolis(vars=[p])\n",
    "    trace = pm.sample(N, step=step)"
   ]
  },
  {
   "cell_type": "code",
   "execution_count": 70,
   "id": "edd2b3d7-1edb-4a65-9bdf-93fdb3455653",
   "metadata": {},
   "outputs": [
    {
     "name": "stdout",
     "output_type": "stream",
     "text": [
      "(40000, 23)\n"
     ]
    }
   ],
   "source": [
    "simulations = trace[\"bernoulli_sim\"]\n",
    "print(simulations.shape)"
   ]
  },
  {
   "cell_type": "code",
   "execution_count": 71,
   "id": "df6f53e9-e2b0-4323-ba7b-2618fdd93a8b",
   "metadata": {},
   "outputs": [
    {
     "data": {
      "text/plain": [
       "array([[0, 0, 1, ..., 0, 0, 1],\n",
       "       [0, 0, 0, ..., 0, 0, 1],\n",
       "       [1, 1, 0, ..., 0, 0, 0],\n",
       "       ...,\n",
       "       [0, 0, 0, ..., 0, 0, 1],\n",
       "       [0, 1, 1, ..., 1, 0, 1],\n",
       "       [1, 0, 0, ..., 0, 0, 1]])"
      ]
     },
     "execution_count": 71,
     "metadata": {},
     "output_type": "execute_result"
    }
   ],
   "source": [
    "simulations"
   ]
  },
  {
   "cell_type": "code",
   "execution_count": 92,
   "id": "cc5e87ae-60a7-400c-9e62-24c37255655e",
   "metadata": {},
   "outputs": [
    {
     "data": {
      "image/png": "[encoded data removed]",
      "text/plain": [
       "<Figure size 900x720 with 4 Axes>"
      ]
     },
     "metadata": {
      "needs_background": "light"
     },
     "output_type": "display_data"
    }
   ],
   "source": [
    "plt.figure(figsize=(12.5, 10))\n",
    "\n",
    "p_trace = trace[\"p\"]\n",
    "alpha_trace = trace[\"alpha\"]\n",
    "for i in range(4):\n",
    "    ax = plt.subplot(4, 1, i+1)\n",
    "    plt.scatter(temp, simulations[1000*i, :], color=\"k\", s=50, alpha=0.6)\n",
    "    plt.scatter(temp, p_trace[1000*i, :])"
   ]
  },
  {
   "cell_type": "code",
   "execution_count": 94,
   "id": "ac71a054-ff99-4604-ac86-642e62bbb249",
   "metadata": {},
   "outputs": [
    {
     "data": {
      "image/png": "[encoded data removed]",
      "text/plain": [
       "<Figure size 900x288 with 1 Axes>"
      ]
     },
     "metadata": {
      "needs_background": "light"
     },
     "output_type": "display_data"
    }
   ],
   "source": [
    "plt.figure(figsize=(12.5, 4))\n",
    "\n",
    "plt.scatter(alpha_samples, beta_samples, alpha=0.1)\n",
    "plt.title(\"Why does the plot look like this?\")\n",
    "plt.xlabel(r\"$\\alpha$\")\n",
    "plt.ylabel(r\"$\\beta$\");"
   ]
  },
  {
   "cell_type": "code",
   "execution_count": null,
   "id": "824d2a4b-0323-42fd-85bc-9c13bc9068c9",
   "metadata": {},
   "outputs": [],
   "source": []
  }
 ],
 "metadata": {
  "kernelspec": {
   "display_name": "Python 3 (ipykernel)",
   "language": "python",
   "name": "python3"
  },
  "language_info": {
   "codemirror_mode": {
    "name": "ipython",
    "version": 3
   },
   "file_extension": ".py",
   "mimetype": "text/x-python",
   "name": "python",
   "nbconvert_exporter": "python",
   "pygments_lexer": "ipython3",
   "version": "3.9.7"
  }
 },
 "nbformat": 4,
 "nbformat_minor": 5
}
