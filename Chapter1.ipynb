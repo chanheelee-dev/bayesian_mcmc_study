{
 "cells": [
  {
   "cell_type": "code",
   "execution_count": 3,
   "id": "04f8aed1-0b30-4015-ae26-6e103c26f62d",
   "metadata": {},
   "outputs": [],
   "source": [
    "import pymc3 as pm\n",
    "import numpy as np\n",
    "import scipy.stats as stats\n",
    "from matplotlib import pyplot as plt"
   ]
  },
  {
   "cell_type": "markdown",
   "id": "89e74ef8-fc60-413c-b028-8846b98042b0",
   "metadata": {},
   "source": [
    "# Chapter 1: Introduction\n",
    "\n",
    "## 예제: 메시지 수신량 모델링\n",
    "\n",
    "- 메시지 수신량의 패턴이 어느 순간 변한 것 같은데\n",
    "    - 실제로 변했을까?\n",
    "    - 언제, 얼만큼 변했을까?"
   ]
  },
  {
   "cell_type": "code",
   "execution_count": 6,
   "id": "eec03a3a-96a0-4ddf-9539-cb1da50cf83f",
   "metadata": {},
   "outputs": [],
   "source": [
    "dist = stats.beta\n",
    "n_trials = 500\n",
    "count_data = np.loadtxt(\"datasets/txtdata.csv\")\n",
    "n_count_data = len(count_data)"
   ]
  },
  {
   "cell_type": "code",
   "execution_count": 10,
   "id": "62964d74-8c87-48d9-8509-aef162f76c0c",
   "metadata": {},
   "outputs": [
    {
     "data": {
      "image/png": "[encoded data removed]",
      "text/plain": [
       "<Figure size 900x252 with 1 Axes>"
      ]
     },
     "metadata": {
      "needs_background": "light"
     },
     "output_type": "display_data"
    }
   ],
   "source": [
    "plt.figure(figsize=(12.5, 3.5))\n",
    "plt.bar(np.arange(n_count_data), count_data, color=\"#348ABD\")\n",
    "plt.xlabel(\"Time\")\n",
    "plt.ylabel(\"count of msgs received\")\n",
    "plt.title(\"Received Message Counts per time\")\n",
    "plt.xlim(0, n_count_data);"
   ]
  },
  {
   "cell_type": "markdown",
   "id": "888afe41-17ca-40c1-8d43-635bece71b23",
   "metadata": {},
   "source": [
    "### 문제 상황 모델링"
   ]
  },
  {
   "cell_type": "markdown",
   "id": "6ff4340d-6551-42d1-8b44-ac94095a6927",
   "metadata": {},
   "source": [
    "$C_i$가 시간 $i$에서의 수신메시지 개수라고 할 때,\n",
    "\n",
    "- Likelihood 가정\n",
    "1. $C_i$가 Poisson 분포를 따른다고 가정.  \n",
    "$\\text{parameter}: \\lambda$\n",
    "\n",
    "2. $\\tau$ 시점부터 분포가 달라진다고 가정.\n",
    "$$ \\lambda = \n",
    "\\begin{cases}\n",
    "\\lambda_1 & \\text{when }\\; i < \\tau \\\\\n",
    "\\lambda_2 & \\text{when }\\; i \\geq \\tau\n",
    "\\end{cases}\n",
    "$$"
   ]
  },
  {
   "cell_type": "markdown",
   "id": "e509e6f0-05d5-4e44-b7f9-68672dd24a21",
   "metadata": {},
   "source": [
    "- Prior 분포\n",
    "\n",
    "1. $\\lambda_i$를 잘 고르는 방법이 딱히 없으니 균등한 방법으로.  \n",
    "$\\lambda_i$가 Exponential 분포를 따른다고 가정.  \n",
    "$\\text{parent variable}: \\alpha$  \n",
    "$$ \\lambda \\sim \\mathrm{Exp}(\\alpha)$$\n",
    "\n",
    "이 때 $\\alpha$의 값은 Poisson 분포와 Exponential 분포의 관계를 통해  \n",
    "$$ \\mathbb{E}[\\lambda \\mid \\alpha] = \\frac{1}{\\alpha} $$\n",
    "\n",
    "2. $\\tau$도 균등하게.\n",
    "시간이 discrete한 숫자이니 discrete uniform 분포를 불러오면 된다.  \n",
    "$$ \\tau \\sim \\mathrm{DiscreteUniform}(0, \\text{total_len_of_time})$$"
   ]
  },
  {
   "cell_type": "markdown",
   "id": "09eac2ff-8cae-41ee-80be-2407017a64b9",
   "metadata": {
    "tags": []
   },
   "source": [
    "**Exponential**\n",
    "\n",
    "$$ f(x \\mid \\lambda) = \\lambda \\exp\\left\\{ -\\lambda x \\right\\} $$"
   ]
  },
  {
   "cell_type": "markdown",
   "id": "9179aea4-229c-41f0-9235-aabfe891315b",
   "metadata": {},
   "source": [
    "### 실제 MCMC 진행"
   ]
  },
  {
   "cell_type": "code",
   "execution_count": 13,
   "id": "2f6e4cbb-5ea2-4c6b-a5bb-45a976e0060e",
   "metadata": {},
   "outputs": [],
   "source": [
    "with pm.Model() as model:\n",
    "    alpha = 1.0/count_data.mean()\n",
    "    \n",
    "    lambda_1 = pm.Exponential(\"lambda_1\", alpha)\n",
    "    lambda_2 = pm.Exponential(\"lambda_2\", alpha)\n",
    "    tau = pm.DiscreteUniform(\"tau\", lower=0, upper=n_count_data-1)"
   ]
  },
  {
   "cell_type": "code",
   "execution_count": 18,
   "id": "186d195f-8ce1-437c-941e-eb493fa8fe8c",
   "metadata": {},
   "outputs": [
    {
     "data": {
      "text/latex": [
       "$\\text{lambda_1} \\sim \\text{Exponential}(\\mathit{lam}=0.05065023956194388)$"
      ],
      "text/plain": [
       "lambda_1 ~ Exponential"
      ]
     },
     "execution_count": 18,
     "metadata": {},
     "output_type": "execute_result"
    }
   ],
   "source": [
    "lambda_1"
   ]
  },
  {
   "cell_type": "code",
   "execution_count": 17,
   "id": "20c0211b-17a9-45e8-a98f-4ecaf02c823a",
   "metadata": {},
   "outputs": [
    {
     "data": {
      "text/latex": [
       "$\\text{lambda_2} \\sim \\text{Exponential}(\\mathit{lam}=0.05065023956194388)$"
      ],
      "text/plain": [
       "lambda_2 ~ Exponential"
      ]
     },
     "execution_count": 17,
     "metadata": {},
     "output_type": "execute_result"
    }
   ],
   "source": [
    "lambda_2"
   ]
  },
  {
   "cell_type": "code",
   "execution_count": 19,
   "id": "31932f8b-ab6f-4148-83c5-a9b10e560dbf",
   "metadata": {},
   "outputs": [
    {
     "data": {
      "text/latex": [
       "$\\text{tau} \\sim \\text{DiscreteUniform}(\\mathit{lower}=f(f()),~\\mathit{upper}=f(f()))$"
      ],
      "text/plain": [
       "tau ~ DiscreteUniform"
      ]
     },
     "execution_count": 19,
     "metadata": {},
     "output_type": "execute_result"
    }
   ],
   "source": [
    "tau"
   ]
  },
  {
   "cell_type": "code",
   "execution_count": 20,
   "id": "1dd21837-25bb-4d82-b59c-cf7ed9df6cbd",
   "metadata": {},
   "outputs": [],
   "source": [
    "with model:\n",
    "    idx = np.arange(n_count_data)\n",
    "    # switch문\n",
    "    lambda_ = pm.math.switch(idx < tau, lambda_1, lambda_2)"
   ]
  },
  {
   "cell_type": "code",
   "execution_count": 22,
   "id": "60be3dbd-2489-4363-ac48-ecc1c6d93572",
   "metadata": {},
   "outputs": [
    {
     "data": {
      "text/plain": [
       "Elemwise{switch,no_inplace}.0"
      ]
     },
     "execution_count": 22,
     "metadata": {},
     "output_type": "execute_result"
    }
   ],
   "source": [
    "lambda_"
   ]
  },
  {
   "cell_type": "code",
   "execution_count": 21,
   "id": "8921d034-1be0-436c-bb1d-0d300102a4bc",
   "metadata": {},
   "outputs": [],
   "source": [
    "with model:\n",
    "    observation = pm.Poisson(\"obs\", lambda_, observed=count_data)"
   ]
  },
  {
   "cell_type": "code",
   "execution_count": 23,
   "id": "e315445d-844c-4da1-8653-f6418cd78ef2",
   "metadata": {},
   "outputs": [
    {
     "data": {
      "text/latex": [
       "$\\text{obs} \\sim \\text{Poisson}(\\mathit{mu}=f(f(f(\\text{tau}),~array),~f(\\text{lambda_1}),~f(\\text{lambda_2})))$"
      ],
      "text/plain": [
       "obs ~ Poisson"
      ]
     },
     "execution_count": 23,
     "metadata": {},
     "output_type": "execute_result"
    }
   ],
   "source": [
    "observation"
   ]
  },
  {
   "cell_type": "code",
   "execution_count": 24,
   "id": "3b1118de-deb2-4629-8412-87aec595caef",
   "metadata": {},
   "outputs": [
    {
     "name": "stderr",
     "output_type": "stream",
     "text": [
      "Multiprocess sampling (4 chains in 4 jobs)\n",
      "CompoundStep\n",
      ">Metropolis: [tau]\n",
      ">Metropolis: [lambda_2]\n",
      ">Metropolis: [lambda_1]\n"
     ]
    },
    {
     "data": {
      "text/html": [
       "\n",
       "    <div>\n",
       "        <style>\n",
       "            /* Turns off some styling */\n",
       "            progress {\n",
       "                /* gets rid of default border in Firefox and Opera. */\n",
       "                border: none;\n",
       "                /* Needs to be in here for Safari polyfill so background images work as expected. */\n",
       "                background-size: auto;\n",
       "            }\n",
       "            .progress-bar-interrupted, .progress-bar-interrupted::-webkit-progress-bar {\n",
       "                background: #F44336;\n",
       "            }\n",
       "        </style>\n",
       "      <progress value='60000' class='' max='60000' style='width:300px; height:20px; vertical-align: middle;'></progress>\n",
       "      100.00% [60000/60000 00:04<00:00 Sampling 4 chains, 0 divergences]\n",
       "    </div>\n",
       "    "
      ],
      "text/plain": [
       "<IPython.core.display.HTML object>"
      ]
     },
     "metadata": {},
     "output_type": "display_data"
    },
    {
     "name": "stderr",
     "output_type": "stream",
     "text": [
      "Sampling 4 chains for 5_000 tune and 10_000 draw iterations (20_000 + 40_000 draws total) took 17 seconds.\n",
      "The number of effective samples is smaller than 25% for some parameters.\n"
     ]
    }
   ],
   "source": [
    "# MCMC 가동\n",
    "with model:\n",
    "    step = pm.Metropolis()\n",
    "    trace = pm.sample(10_000, tune=5_000, step=step, return_inferencedata=False)"
   ]
  },
  {
   "cell_type": "code",
   "execution_count": 25,
   "id": "b457936a-368c-4f2c-a442-3ab8554836ef",
   "metadata": {},
   "outputs": [],
   "source": [
    "lambda_1_samples = trace['lambda_1']\n",
    "lambda_2_samples = trace['lambda_2']\n",
    "tau_samples = trace['tau']"
   ]
  },
  {
   "cell_type": "code",
   "execution_count": 27,
   "id": "f867a141-2ea5-41e7-a5df-7bdbc71cf39a",
   "metadata": {},
   "outputs": [
    {
     "data": {
      "text/plain": [
       "<MultiTrace: 4 chains, 10000 iterations, 5 variables>"
      ]
     },
     "execution_count": 27,
     "metadata": {},
     "output_type": "execute_result"
    }
   ],
   "source": [
    "trace"
   ]
  },
  {
   "cell_type": "code",
   "execution_count": 26,
   "id": "180d907e-00f7-4ab9-a58c-6044a669f155",
   "metadata": {},
   "outputs": [
    {
     "data": {
      "text/plain": [
       "array([17.78520234, 17.78520234, 17.78520234, ..., 17.21107458,\n",
       "       17.52910865, 17.68184824])"
      ]
     },
     "execution_count": 26,
     "metadata": {},
     "output_type": "execute_result"
    }
   ],
   "source": [
    "lambda_1_samples"
   ]
  },
  {
   "cell_type": "code",
   "execution_count": 30,
   "id": "850d450c-95b3-401d-a995-83a4b72b561c",
   "metadata": {},
   "outputs": [
    {
     "data": {
      "text/plain": [
       "(40000,)"
      ]
     },
     "execution_count": 30,
     "metadata": {},
     "output_type": "execute_result"
    }
   ],
   "source": [
    "lambda_1_samples.shape"
   ]
  },
  {
   "cell_type": "markdown",
   "id": "a207785e-de1b-4ce5-816c-2e00f822fb00",
   "metadata": {},
   "source": [
    "### 시뮬레이션 완료 후 posterior 분포 확인"
   ]
  },
  {
   "cell_type": "code",
   "execution_count": 40,
   "id": "c0ad2201-4137-43f1-b40e-fdf02e359e16",
   "metadata": {},
   "outputs": [
    {
     "data": {
      "image/png": "[encoded data removed]",
      "text/plain": [
       "<Figure size 900x720 with 3 Axes>"
      ]
     },
     "metadata": {
      "needs_background": "light"
     },
     "output_type": "display_data"
    }
   ],
   "source": [
    "plt.figure(figsize=(12.5, 10))\n",
    "\n",
    "ax = plt.subplot(311)\n",
    "ax.set_autoscaley_on(False)\n",
    "\n",
    "plt.hist(lambda_1_samples, histtype='stepfilled', bins=30, alpha=0.85,\n",
    "         label=\"posterior of $\\lambda_1$\", color=\"#A60628\", density=True)\n",
    "plt.legend(loc=\"upper left\")\n",
    "plt.title(r\"\"\"Posterior distributions of the variables\n",
    "    $\\lambda_1,\\;\\lambda_2,\\;\\tau$\"\"\")\n",
    "plt.xlim([15, 30])\n",
    "plt.xlabel(\"$\\lambda_1$ value\")\n",
    "\n",
    "ax = plt.subplot(312)\n",
    "ax.set_autoscaley_on(False)\n",
    "plt.hist(lambda_2_samples, histtype='stepfilled', bins=30, alpha=0.85,\n",
    "         label=\"posterior of $\\lambda_2$\", color=\"#7A68A6\", density=True)\n",
    "plt.legend(loc=\"upper left\")\n",
    "plt.xlim([15, 30])\n",
    "plt.xlabel(\"$\\lambda_2$ value\")\n",
    "\n",
    "plt.subplot(313)\n",
    "w = 1.0 / tau_samples.shape[0] * np.ones_like(tau_samples)\n",
    "plt.hist(tau_samples, bins=n_count_data, alpha=1,\n",
    "         label=r\"posterior of $\\tau$\",\n",
    "         color=\"#467821\", \n",
    "         weights=w, \n",
    "         rwidth=2.\n",
    "        )\n",
    "plt.xticks(np.arange(n_count_data))\n",
    "\n",
    "plt.legend(loc=\"upper left\")\n",
    "plt.ylim([0, .75])\n",
    "plt.xlim([35, len(count_data)-20])\n",
    "plt.xlabel(r\"$\\tau$ (in days)\")\n",
    "plt.ylabel(\"probability\");"
   ]
  },
  {
   "cell_type": "markdown",
   "id": "da6286b6-87d6-411e-abbb-dcf6bdc12b13",
   "metadata": {},
   "source": [
    "### 시뮬레이션 결과 해석하기"
   ]
  },
  {
   "cell_type": "code",
   "execution_count": 42,
   "id": "f668c04f-1a13-4ab8-84be-ae4f8b4ae72e",
   "metadata": {},
   "outputs": [
    {
     "data": {
      "image/png": "[encoded data removed]",
      "text/plain": [
       "<Figure size 900x360 with 1 Axes>"
      ]
     },
     "metadata": {
      "needs_background": "light"
     },
     "output_type": "display_data"
    }
   ],
   "source": [
    "plt.figure(figsize=(12.5, 5))\n",
    "# tau_samples, lambda_1_samples, lambda_2_samples\n",
    "# 각각 posterior 분포로부터 N개씩 샘플링한 것(40_000개)\n",
    "N = tau_samples.shape[0]\n",
    "expected_texts_per_day = np.zeros(n_count_data)\n",
    "for day in range(0, n_count_data):\n",
    "    ix = day < tau_samples\n",
    "    # ix: tau_samples에서 `day`보다 큰 경우에 대한 boolean array\n",
    "    #     예를 들어 `day = 35`일 때, \n",
    "    #     35보다 작은 tau가 나온 케이스에서는 lambda_1을,\n",
    "    #     35보다 큰 tau가 나온 케이스에서는 lambda_2을 뽑아내려는 목적이다.\n",
    "    \n",
    "    # E(C_t | lambda_1, lambda_2, tau) = lambda_1*(t < tau) + lambda_2*(t >= tau)\n",
    "    # 총 N번의 시뮬레이션 중에 lambda_1가 p번, lambda_2가 N-p번 나왔다면\n",
    "    # 그 lambda들의 횟수에 대한 weighted 평균을 구하면 된다.\n",
    "    expected_texts_per_day[day] = (lambda_1_samples[ix].sum()\n",
    "                                   + lambda_2_samples[~ix].sum()) / N\n",
    "\n",
    "\n",
    "plt.plot(range(n_count_data), expected_texts_per_day, lw=4, color=\"#E24A33\",\n",
    "         label=\"expected number of text-messages received\")\n",
    "plt.xlim(0, n_count_data)\n",
    "plt.xlabel(\"Day\")\n",
    "plt.ylabel(\"Expected # text-messages\")\n",
    "plt.title(\"Expected number of text-messages received\")\n",
    "plt.ylim(0, 60)\n",
    "plt.bar(np.arange(len(count_data)), count_data, color=\"#348ABD\", alpha=0.65,\n",
    "        label=\"observed texts per day\")\n",
    "\n",
    "plt.legend(loc=\"upper left\");"
   ]
  },
  {
   "cell_type": "markdown",
   "id": "57a9e69e-85ba-4502-acc3-1a55923ed9fb",
   "metadata": {},
   "source": [
    "### 연습문제"
   ]
  },
  {
   "cell_type": "markdown",
   "id": "70c81ce7-6b4d-4656-9fdc-62fb1f20f104",
   "metadata": {},
   "source": [
    "#### 1. `lambda_1_samples`, `lambda_2_samples`를 이용해서 $\\lambda_1$, $\\lambda_2$ 분포의 평균 구하기"
   ]
  },
  {
   "cell_type": "code",
   "execution_count": 46,
   "id": "cd7e9710-3e43-49c3-bb6f-6b0a8db5e052",
   "metadata": {},
   "outputs": [
    {
     "name": "stdout",
     "output_type": "stream",
     "text": [
      "17.757725677888626 22.71496183374506\n"
     ]
    }
   ],
   "source": [
    "lambda_1_mean = lambda_1_samples.mean()\n",
    "lambda_2_mean = lambda_2_samples.mean()\n",
    "print(lambda_1_mean, lambda_2_mean)"
   ]
  },
  {
   "cell_type": "markdown",
   "id": "c5deee6a-4dca-4921-9897-1571a4120ecc",
   "metadata": {},
   "source": [
    "#### 2. 메시지 수신량의 증가율의 기댓값은?\n",
    "\n",
    "- 참고로 `lambda_1_mean` / `lambda_2_mean`과는 다르다."
   ]
  },
  {
   "cell_type": "code",
   "execution_count": 48,
   "id": "f30753d3-e85b-40d9-9a03-74c6d2bde210",
   "metadata": {},
   "outputs": [
    {
     "name": "stdout",
     "output_type": "stream",
     "text": [
      "0.7829520495774598 0.7817633948875041\n"
     ]
    }
   ],
   "source": [
    "increase_rate = (lambda_1_samples / lambda_2_samples).mean()\n",
    "increase_rate_wrong = lambda_1_mean / lambda_2_mean\n",
    "print(increase_rate, increase_rate_wrong)"
   ]
  },
  {
   "cell_type": "markdown",
   "id": "170ffcca-2ec8-435d-bda0-7dcebdd14386",
   "metadata": {},
   "source": [
    "#### 3. $\\tau$가 45보다 작다는 사실을 알고 있다고 가정했을 때, $\\lambda_1$의 기댓값은?\n",
    "\n",
    "- 새로운 정보가 들어왔을 때의 변화를 살펴보자\n",
    "\n",
    "$$ \\mathbb{E}[\\lambda_1 \\mid \\tau < 45]$$ "
   ]
  },
  {
   "cell_type": "code",
   "execution_count": 53,
   "id": "71591117-0ba3-4969-9bc8-83331facf7ea",
   "metadata": {},
   "outputs": [
    {
     "data": {
      "text/plain": [
       "17.764632315984286"
      ]
     },
     "execution_count": 53,
     "metadata": {},
     "output_type": "execute_result"
    }
   ],
   "source": [
    "lambda_1_samples[tau_samples < 45].mean()"
   ]
  },
  {
   "cell_type": "code",
   "execution_count": null,
   "id": "a2ee4ee8-3d70-441e-9abc-6a3889eb2562",
   "metadata": {},
   "outputs": [],
   "source": []
  }
 ],
 "metadata": {
  "kernelspec": {
   "display_name": "Python 3 (ipykernel)",
   "language": "python",
   "name": "python3"
  },
  "language_info": {
   "codemirror_mode": {
    "name": "ipython",
    "version": 3
   },
   "file_extension": ".py",
   "mimetype": "text/x-python",
   "name": "python",
   "nbconvert_exporter": "python",
   "pygments_lexer": "ipython3",
   "version": "3.9.7"
  }
 },
 "nbformat": 4,
 "nbformat_minor": 5
}
